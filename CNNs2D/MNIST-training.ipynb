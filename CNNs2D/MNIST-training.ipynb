{
 "cells": [
  {
   "attachments": {},
   "cell_type": "markdown",
   "metadata": {},
   "source": [
    "# 2D-CNNs for MNIST dataset\n",
    "* Learn about:\n",
    "    * [THE MNIST DATABASE](http://yann.lecun.com/exdb/mnist/)\n",
    "    * Coding with PyTorch Lightning\n",
    "        * LightningDataModule\n",
    "        * LightningModule\n",
    "        * (optional) Logger, Trainer, callbacks\n",
    "    * Two types of the artificial neuralnetworks\n",
    "        * Multilayer perceptron (MLP)\n",
    "        * 2D Convolutional neuralnetworks (2D CNNs)\n",
    "* Let's try:\n",
    "    * Build MLP or CNNs by yourself\n",
    "    * Try to use other loss functions\n",
    "    * Try to change the training parameters\n",
    "        * learning rate, batch size, epochs, etc..."
   ]
  },
  {
   "attachments": {},
   "cell_type": "markdown",
   "metadata": {},
   "source": [
    "## Step1. Lightning data module for MNIST dataset ##"
   ]
  },
  {
   "attachments": {},
   "cell_type": "markdown",
   "metadata": {},
   "source": [
    "* `train_data`: 50,000\n",
    "* `test_data`: 10,000\n",
    "* `val_data`: 10,000"
   ]
  },
  {
   "cell_type": "code",
   "execution_count": 1,
   "metadata": {},
   "outputs": [],
   "source": [
    "import os\n",
    "import torch\n",
    "from torch.utils.data import Dataset\n",
    "\n",
    "from pytorch_lightning import LightningDataModule\n",
    "from torch.utils.data import DataLoader, random_split\n",
    "from torchvision.datasets import MNIST\n",
    "from torchvision import transforms\n",
    "from typing import Optional\n",
    "\n",
    "\n",
    "class MNISTDataset(LightningDataModule):\n",
    "    def __init__(\n",
    "        self,\n",
    "        data_path: str,\n",
    "        batch_size: int = 64\n",
    "        ):\n",
    "        super().__init__()\n",
    "        self.data_dir = data_path\n",
    "        self.transform = transforms.Compose([transforms.ToTensor(), transforms.Normalize((0.1307), (0.3081))])\n",
    "        self.batch_size = batch_size\n",
    "\n",
    "    def setup(self, stage: Optional[str] = None) -> None:\n",
    "        if stage == 'fit' or stage is None:\n",
    "            full_data = MNIST(os.getcwd(), train=True,  download=True, transform=self.transform)\n",
    "            self.train_data, self.val_data = random_split(full_data, [50000, 10000])\n",
    "        if stage == 'test' or stage is None:\n",
    "            self.test_data  = MNIST(os.getcwd(), train=False, download=True, transform=self.transform)\n",
    "\n",
    "    def train_dataloader(self):\n",
    "        return DataLoader(self.train_data, batch_size=self.batch_size)\n",
    "\n",
    "    def val_dataloader(self):\n",
    "        return DataLoader(self.val_data, batch_size=self.batch_size)\n",
    "\n",
    "    def test_dataloader(self):\n",
    "        return DataLoader(self.test_data, batch_size=self.batch_size)        \n",
    "    "
   ]
  },
  {
   "attachments": {},
   "cell_type": "markdown",
   "metadata": {},
   "source": [
    "## Step2-1. Multilayer perceptron (MLP) ##"
   ]
  },
  {
   "cell_type": "code",
   "execution_count": 2,
   "metadata": {},
   "outputs": [],
   "source": [
    "from torch import nn\n",
    "\n",
    "class MLP(nn.Module):\n",
    "    def __init__(self):\n",
    "        super(MLP, self).__init__()\n",
    "\n",
    "        self.layer = nn.Sequential(\n",
    "            nn.Linear(784, 256), # 28pixel x 28pixel = 784\n",
    "            nn.ReLU(),\n",
    "            #nn.Linear(256, 128),\n",
    "            #nn.ReLU(),\n",
    "            #nn.Linear(128, 64),\n",
    "            #nn.ReLU(),\n",
    "            nn.Linear(256, 10), # 10class\n",
    "            nn.ReLU(),\n",
    "            nn.Softmax(dim=1)\n",
    "        )\n",
    "\n",
    "    def forward(self, x):\n",
    "        x = x.view(x.shape[0], -1)\n",
    "        x = self.layer(x)\n",
    "        return x"
   ]
  },
  {
   "attachments": {},
   "cell_type": "markdown",
   "metadata": {},
   "source": [
    "## Step2-2. 2D-CNNs model ##"
   ]
  },
  {
   "cell_type": "code",
   "execution_count": 3,
   "metadata": {},
   "outputs": [],
   "source": [
    "from torch import nn\n",
    "\n",
    "class CNNs2D(nn.Module):\n",
    "    def __init__(self):\n",
    "        super(CNNs2D, self).__init__()\n",
    "        self.conv_layer = nn.Sequential(\n",
    "            nn.Conv2d(in_channels=1, out_channels=32, kernel_size=3, stride=1),\n",
    "            nn.BatchNorm2d(32),\n",
    "            nn.ReLU(inplace=True),\n",
    "            nn.Conv2d(32, 64, 3, 1),\n",
    "            nn.BatchNorm2d(64),\n",
    "            nn.ReLU(inplace=True),\n",
    "            nn.MaxPool2d(2),\n",
    "            nn.Dropout(0.2)\n",
    "        )\n",
    "        self.fc_layer = nn.Sequential(\n",
    "            nn.Linear(9216, 128),\n",
    "            nn.ReLU(inplace=True),\n",
    "            nn.Dropout(0.2),\n",
    "            nn.Linear(128, 10), # 10Class\n",
    "            nn.ReLU(),\n",
    "            nn.Softmax(dim=1)\n",
    "        )\n",
    "    def forward(self, x):\n",
    "        x = self.conv_layer(x)\n",
    "        x = torch.flatten(x,1)\n",
    "        x = self.fc_layer(x)\n",
    "        return x"
   ]
  },
  {
   "attachments": {},
   "cell_type": "markdown",
   "metadata": {},
   "source": [
    "## Step3. Pytorch lightning module ##"
   ]
  },
  {
   "cell_type": "code",
   "execution_count": 4,
   "metadata": {},
   "outputs": [],
   "source": [
    "from torch.nn import functional as F\n",
    "from torch import optim\n",
    "from torch import Tensor\n",
    "from torchmetrics.classification import Accuracy\n",
    "from pytorch_lightning import LightningModule\n",
    "\n",
    "\n",
    "class PLModuleMNIST(LightningModule):\n",
    "    def __init__(self, model, lr_rate):\n",
    "        super(PLModuleMNIST, self).__init__()\n",
    "        self.model = model\n",
    "        self.lr_rate = lr_rate\n",
    "        self.accuracy_calc = Accuracy(task='multiclass', num_classes=10, top_k=1)\n",
    "\n",
    "    def forward(self, input: Tensor, **kwargs) -> Tensor:\n",
    "        return self.model(input)\n",
    "\n",
    "    def cross_entropy_loss(self, x, y):\n",
    "        return F.nll_loss(x, y)\n",
    "\n",
    "    def training_step(self, batch, batch_idx):\n",
    "        x, y = batch\n",
    "        logits = self.forward(x)\n",
    "        loss = self.cross_entropy_loss(logits,y)\n",
    "        acc = self.accuracy_calc(logits, y)\n",
    "        log = {'train_loss': loss, 'train_acc': acc}\n",
    "        return {'loss': loss, 'acc': acc, 'logs': log}\n",
    "\n",
    "        \n",
    "    def validation_step(self, batch, batch_idx):\n",
    "        x, y = batch\n",
    "        logits = self.forward(x)\n",
    "        loss = self.cross_entropy_loss(logits,y)\n",
    "        acc = self.accuracy_calc(logits, y)\n",
    "        log = {'val_loss': loss, 'val_acc': acc}\n",
    "        return {'val_loss': loss, 'val_acc': acc, 'logs': log}\n",
    "\n",
    "        \n",
    "    def test_step(self, batch, batch_idx):\n",
    "        x, y = batch\n",
    "        logits = self.forward(x)\n",
    "        loss = self.cross_entropy_loss(logits,y)\n",
    "        acc = self.accuracy_calc(logits, y)\n",
    "        log = {'test_loss': loss, 'test_acc': acc}\n",
    "        return {'test_loss': loss, 'test_acc': acc, 'logs':log}\n",
    "    \n",
    "    def training_epoch_end(self, outputs) -> None:\n",
    "        avg_loss = torch.stack( tuple(x['loss'] for x in outputs) ).mean()\n",
    "        avg_acc = torch.stack( tuple(x['acc'] for x in outputs) ).mean()\n",
    "        #print('train_loss:', avg_loss, 'train_acc', avg_acc)\n",
    "        self.log('loss', {'train': avg_loss})\n",
    "        self.log('acc', {'train': avg_acc})\n",
    "\n",
    "    def validation_epoch_end(self, outputs) -> None:\n",
    "        avg_loss = torch.stack( tuple(x['val_loss'] for x in outputs) ).mean()\n",
    "        avg_acc = torch.stack( tuple(x['val_acc'] for x in outputs) ).mean()\n",
    "        #print('val_loss:', avg_loss, 'val_acc', avg_acc)\n",
    "        self.log('loss', {'val': avg_loss})\n",
    "        self.log('acc', {'val': avg_acc})\n",
    "\n",
    "    def test_epoch_end(self, outputs) -> None:\n",
    "        avg_loss = torch.stack( tuple(x['test_loss'] for x in outputs) ).mean()\n",
    "        avg_acc = torch.stack( tuple(x['test_acc'] for x in outputs) ).mean()\n",
    "        #print('test_loss:', avg_loss, 'test_acc', avg_acc)\n",
    "        self.log('loss', {'test': avg_loss})\n",
    "        self.log('acc', {'test': avg_acc})\n",
    "\n",
    "    def configure_optimizers(self):\n",
    "        optimizer =  optim.Adam(self.parameters(), lr=self.lr_rate)\n",
    "        lr_scheduler = {'scheduler': optim.lr_scheduler.ExponentialLR(optimizer, gamma=0.9), 'name': 'exp_LR'}\n",
    "        return [optimizer], [lr_scheduler]\n",
    "        #return optim.Adam(self.model.parameters(), lr=0.001)"
   ]
  },
  {
   "attachments": {},
   "cell_type": "markdown",
   "metadata": {},
   "source": [
    "## Step4. Logger ##\n",
    "Tensorboard logger is used. A window of tensorboard opens here."
   ]
  },
  {
   "cell_type": "code",
   "execution_count": 5,
   "metadata": {},
   "outputs": [
    {
     "data": {
      "text/plain": [
       "Reusing TensorBoard on port 6006 (pid 12709), started 1:20:43 ago. (Use '!kill 12709' to kill it.)"
      ]
     },
     "metadata": {},
     "output_type": "display_data"
    },
    {
     "data": {
      "text/html": [
       "\n",
       "      <iframe id=\"tensorboard-frame-4399ff304539c117\" width=\"100%\" height=\"800\" frameborder=\"0\">\n",
       "      </iframe>\n",
       "      <script>\n",
       "        (function() {\n",
       "          const frame = document.getElementById(\"tensorboard-frame-4399ff304539c117\");\n",
       "          const url = new URL(\"http://localhost\");\n",
       "          const port = 6006;\n",
       "          if (port) {\n",
       "            url.port = port;\n",
       "          }\n",
       "          frame.src = url;\n",
       "        })();\n",
       "      </script>\n",
       "    "
      ],
      "text/plain": [
       "<IPython.core.display.HTML object>"
      ]
     },
     "metadata": {},
     "output_type": "display_data"
    }
   ],
   "source": [
    "from pytorch_lightning.loggers import TensorBoardLogger\n",
    "\n",
    "logger = TensorBoardLogger(save_dir='./tb_logs/', name = 'MNIST')\n",
    "\n",
    "\n",
    "%reload_ext tensorboard\n",
    "%tensorboard --logdir=./tb_logs/"
   ]
  },
  {
   "attachments": {},
   "cell_type": "markdown",
   "metadata": {},
   "source": [
    "## Step5. Build & fit a model ##\n",
    "Select whether to use `MLP()` or `CNNs2D()` for the model. The settings for the learning is described here.\n",
    "* `lr_rate`: learning rate\n",
    "* `batch_size`\n",
    "* `max_epochs`"
   ]
  },
  {
   "cell_type": "code",
   "execution_count": 6,
   "metadata": {},
   "outputs": [],
   "source": [
    "model_core = CNNs2D() # or MLP()\n",
    "model = PLModuleMNIST(model = model_core, lr_rate=0.001)\n",
    "data = MNISTDataset(data_path = './', batch_size=128)"
   ]
  },
  {
   "cell_type": "code",
   "execution_count": 7,
   "metadata": {},
   "outputs": [
    {
     "name": "stderr",
     "output_type": "stream",
     "text": [
      "/vols/solid/dev_ubdt/local/pyenv/versions/3.8.6/lib/python3.8/site-packages/pytorch_lightning/trainer/connectors/accelerator_connector.py:446: LightningDeprecationWarning: Setting `Trainer(gpus=[0])` is deprecated in v1.7 and will be removed in v2.0. Please use `Trainer(accelerator='gpu', devices=[0])` instead.\n",
      "  rank_zero_deprecation(\n",
      "GPU available: True (cuda), used: True\n",
      "TPU available: False, using: 0 TPU cores\n",
      "IPU available: False, using: 0 IPUs\n",
      "HPU available: False, using: 0 HPUs\n",
      "Missing logger folder: ./tb_logs/MNIST\n"
     ]
    },
    {
     "name": "stdout",
     "output_type": "stream",
     "text": [
      "Downloading http://yann.lecun.com/exdb/mnist/train-images-idx3-ubyte.gz\n",
      "Downloading http://yann.lecun.com/exdb/mnist/train-images-idx3-ubyte.gz to /home/hep/shayashi/work/students/example-pytorch-lightning/CNNs2D/MNIST/raw/train-images-idx3-ubyte.gz\n"
     ]
    },
    {
     "data": {
      "application/vnd.jupyter.widget-view+json": {
       "model_id": "bc578fc1f43a4068aeb3e9225318db67",
       "version_major": 2,
       "version_minor": 0
      },
      "text/plain": [
       "  0%|          | 0/9912422 [00:00<?, ?it/s]"
      ]
     },
     "metadata": {},
     "output_type": "display_data"
    },
    {
     "name": "stdout",
     "output_type": "stream",
     "text": [
      "Extracting /home/hep/shayashi/work/students/example-pytorch-lightning/CNNs2D/MNIST/raw/train-images-idx3-ubyte.gz to /home/hep/shayashi/work/students/example-pytorch-lightning/CNNs2D/MNIST/raw\n",
      "\n",
      "Downloading http://yann.lecun.com/exdb/mnist/train-labels-idx1-ubyte.gz\n",
      "Downloading http://yann.lecun.com/exdb/mnist/train-labels-idx1-ubyte.gz to /home/hep/shayashi/work/students/example-pytorch-lightning/CNNs2D/MNIST/raw/train-labels-idx1-ubyte.gz\n"
     ]
    },
    {
     "data": {
      "application/vnd.jupyter.widget-view+json": {
       "model_id": "1d92c2856c294d4fa1892d4d1a3a9824",
       "version_major": 2,
       "version_minor": 0
      },
      "text/plain": [
       "  0%|          | 0/28881 [00:00<?, ?it/s]"
      ]
     },
     "metadata": {},
     "output_type": "display_data"
    },
    {
     "name": "stdout",
     "output_type": "stream",
     "text": [
      "Extracting /home/hep/shayashi/work/students/example-pytorch-lightning/CNNs2D/MNIST/raw/train-labels-idx1-ubyte.gz to /home/hep/shayashi/work/students/example-pytorch-lightning/CNNs2D/MNIST/raw\n",
      "\n",
      "Downloading http://yann.lecun.com/exdb/mnist/t10k-images-idx3-ubyte.gz\n",
      "Downloading http://yann.lecun.com/exdb/mnist/t10k-images-idx3-ubyte.gz to /home/hep/shayashi/work/students/example-pytorch-lightning/CNNs2D/MNIST/raw/t10k-images-idx3-ubyte.gz\n"
     ]
    },
    {
     "data": {
      "application/vnd.jupyter.widget-view+json": {
       "model_id": "8801a76b326f49d9995fadd521480fa0",
       "version_major": 2,
       "version_minor": 0
      },
      "text/plain": [
       "  0%|          | 0/1648877 [00:00<?, ?it/s]"
      ]
     },
     "metadata": {},
     "output_type": "display_data"
    },
    {
     "name": "stdout",
     "output_type": "stream",
     "text": [
      "Extracting /home/hep/shayashi/work/students/example-pytorch-lightning/CNNs2D/MNIST/raw/t10k-images-idx3-ubyte.gz to /home/hep/shayashi/work/students/example-pytorch-lightning/CNNs2D/MNIST/raw\n",
      "\n",
      "Downloading http://yann.lecun.com/exdb/mnist/t10k-labels-idx1-ubyte.gz\n",
      "Downloading http://yann.lecun.com/exdb/mnist/t10k-labels-idx1-ubyte.gz to /home/hep/shayashi/work/students/example-pytorch-lightning/CNNs2D/MNIST/raw/t10k-labels-idx1-ubyte.gz\n"
     ]
    },
    {
     "data": {
      "application/vnd.jupyter.widget-view+json": {
       "model_id": "5f0e52b324b14dbeb7d798b130c1a34b",
       "version_major": 2,
       "version_minor": 0
      },
      "text/plain": [
       "  0%|          | 0/4542 [00:00<?, ?it/s]"
      ]
     },
     "metadata": {},
     "output_type": "display_data"
    },
    {
     "name": "stdout",
     "output_type": "stream",
     "text": [
      "Extracting /home/hep/shayashi/work/students/example-pytorch-lightning/CNNs2D/MNIST/raw/t10k-labels-idx1-ubyte.gz to /home/hep/shayashi/work/students/example-pytorch-lightning/CNNs2D/MNIST/raw\n",
      "\n"
     ]
    },
    {
     "name": "stderr",
     "output_type": "stream",
     "text": [
      "LOCAL_RANK: 0 - CUDA_VISIBLE_DEVICES: [0]\n",
      "\n",
      "  | Name          | Type               | Params\n",
      "-----------------------------------------------------\n",
      "0 | model         | CNNs2D             | 1.2 M \n",
      "1 | accuracy_calc | MulticlassAccuracy | 0     \n",
      "-----------------------------------------------------\n",
      "1.2 M     Trainable params\n",
      "0         Non-trainable params\n",
      "1.2 M     Total params\n",
      "4.800     Total estimated model params size (MB)\n"
     ]
    },
    {
     "data": {
      "application/vnd.jupyter.widget-view+json": {
       "model_id": "16c9169b87a546bbb6ebad7c4fe3ddb6",
       "version_major": 2,
       "version_minor": 0
      },
      "text/plain": [
       "Sanity Checking: 0it [00:00, ?it/s]"
      ]
     },
     "metadata": {},
     "output_type": "display_data"
    },
    {
     "name": "stderr",
     "output_type": "stream",
     "text": [
      "/vols/solid/dev_ubdt/local/pyenv/versions/3.8.6/lib/python3.8/site-packages/pytorch_lightning/trainer/connectors/data_connector.py:224: PossibleUserWarning: The dataloader, val_dataloader 0, does not have many workers which may be a bottleneck. Consider increasing the value of the `num_workers` argument` (try 20 which is the number of cpus on this machine) in the `DataLoader` init to improve performance.\n",
      "  rank_zero_warn(\n",
      "/vols/solid/dev_ubdt/local/pyenv/versions/3.8.6/lib/python3.8/site-packages/pytorch_lightning/trainer/connectors/data_connector.py:224: PossibleUserWarning: The dataloader, train_dataloader, does not have many workers which may be a bottleneck. Consider increasing the value of the `num_workers` argument` (try 20 which is the number of cpus on this machine) in the `DataLoader` init to improve performance.\n",
      "  rank_zero_warn(\n"
     ]
    },
    {
     "data": {
      "application/vnd.jupyter.widget-view+json": {
       "model_id": "9210e124c9824ec4a9f8db33649615f5",
       "version_major": 2,
       "version_minor": 0
      },
      "text/plain": [
       "Training: 0it [00:00, ?it/s]"
      ]
     },
     "metadata": {},
     "output_type": "display_data"
    },
    {
     "data": {
      "application/vnd.jupyter.widget-view+json": {
       "model_id": "f26dbd9ed1544b0289122803ea3b7f4f",
       "version_major": 2,
       "version_minor": 0
      },
      "text/plain": [
       "Validation: 0it [00:00, ?it/s]"
      ]
     },
     "metadata": {},
     "output_type": "display_data"
    },
    {
     "name": "stderr",
     "output_type": "stream",
     "text": [
      "/vols/solid/dev_ubdt/local/pyenv/versions/3.8.6/lib/python3.8/site-packages/pytorch_lightning/trainer/connectors/logger_connector/result.py:290: UserWarning: The ``compute`` method of metric _ResultMetric was called before the ``update`` method which may lead to errors, as metric states have not yet been updated.\n",
      "  rank_zero_warn(\n"
     ]
    },
    {
     "data": {
      "application/vnd.jupyter.widget-view+json": {
       "model_id": "90869e89d93e4d13a380d4e8fe92fd63",
       "version_major": 2,
       "version_minor": 0
      },
      "text/plain": [
       "Validation: 0it [00:00, ?it/s]"
      ]
     },
     "metadata": {},
     "output_type": "display_data"
    },
    {
     "data": {
      "application/vnd.jupyter.widget-view+json": {
       "model_id": "1335ee38a88f486c84f4c094ac6d36c0",
       "version_major": 2,
       "version_minor": 0
      },
      "text/plain": [
       "Validation: 0it [00:00, ?it/s]"
      ]
     },
     "metadata": {},
     "output_type": "display_data"
    },
    {
     "data": {
      "application/vnd.jupyter.widget-view+json": {
       "model_id": "84e6b27684be42f693aa6347e5ba1241",
       "version_major": 2,
       "version_minor": 0
      },
      "text/plain": [
       "Validation: 0it [00:00, ?it/s]"
      ]
     },
     "metadata": {},
     "output_type": "display_data"
    },
    {
     "data": {
      "application/vnd.jupyter.widget-view+json": {
       "model_id": "75a9ea69b35541768bab35945779f2b6",
       "version_major": 2,
       "version_minor": 0
      },
      "text/plain": [
       "Validation: 0it [00:00, ?it/s]"
      ]
     },
     "metadata": {},
     "output_type": "display_data"
    },
    {
     "data": {
      "application/vnd.jupyter.widget-view+json": {
       "model_id": "0bd0e570b2c5449eb37b7bcf6674018d",
       "version_major": 2,
       "version_minor": 0
      },
      "text/plain": [
       "Validation: 0it [00:00, ?it/s]"
      ]
     },
     "metadata": {},
     "output_type": "display_data"
    },
    {
     "data": {
      "application/vnd.jupyter.widget-view+json": {
       "model_id": "b150978e69ec4f47a30d7d7c3c762943",
       "version_major": 2,
       "version_minor": 0
      },
      "text/plain": [
       "Validation: 0it [00:00, ?it/s]"
      ]
     },
     "metadata": {},
     "output_type": "display_data"
    },
    {
     "data": {
      "application/vnd.jupyter.widget-view+json": {
       "model_id": "007225e1c5d7437887286e78b581b2bc",
       "version_major": 2,
       "version_minor": 0
      },
      "text/plain": [
       "Validation: 0it [00:00, ?it/s]"
      ]
     },
     "metadata": {},
     "output_type": "display_data"
    },
    {
     "data": {
      "application/vnd.jupyter.widget-view+json": {
       "model_id": "a16394b1433448fb9de4a96f85e072f9",
       "version_major": 2,
       "version_minor": 0
      },
      "text/plain": [
       "Validation: 0it [00:00, ?it/s]"
      ]
     },
     "metadata": {},
     "output_type": "display_data"
    },
    {
     "data": {
      "application/vnd.jupyter.widget-view+json": {
       "model_id": "0dc255e1f5ce452eb6be94167f4cf6b5",
       "version_major": 2,
       "version_minor": 0
      },
      "text/plain": [
       "Validation: 0it [00:00, ?it/s]"
      ]
     },
     "metadata": {},
     "output_type": "display_data"
    },
    {
     "name": "stderr",
     "output_type": "stream",
     "text": [
      "`Trainer.fit` stopped: `max_epochs=10` reached.\n"
     ]
    }
   ],
   "source": [
    "from pytorch_lightning import Trainer\n",
    "from pytorch_lightning.callbacks.progress import TQDMProgressBar\n",
    "\n",
    "runner = Trainer(max_epochs=10, \n",
    "                 #gpus=[0],\n",
    "                 accelerator='cpu',  # or 'gpu', 'auto'\n",
    "                 logger=logger, \n",
    "                 callbacks=[TQDMProgressBar(refresh_rate=10)])\n",
    "\n",
    "\n",
    "runner.fit(model, data)"
   ]
  },
  {
   "attachments": {},
   "cell_type": "markdown",
   "metadata": {},
   "source": [
    "## Step6. Check the trained model ##\n",
    "* Structure of the model\n",
    "* Classification performance for the test dataset\n",
    "* Feature maps"
   ]
  },
  {
   "attachments": {},
   "cell_type": "markdown",
   "metadata": {},
   "source": [
    "#### Step6-1. Structure of the trained model ####"
   ]
  },
  {
   "cell_type": "code",
   "execution_count": 8,
   "metadata": {},
   "outputs": [
    {
     "name": "stdout",
     "output_type": "stream",
     "text": [
      "PLModuleMNIST(\n",
      "  (model): CNNs2D(\n",
      "    (conv_layer): Sequential(\n",
      "      (0): Conv2d(1, 32, kernel_size=(3, 3), stride=(1, 1))\n",
      "      (1): BatchNorm2d(32, eps=1e-05, momentum=0.1, affine=True, track_running_stats=True)\n",
      "      (2): ReLU(inplace=True)\n",
      "      (3): Conv2d(32, 64, kernel_size=(3, 3), stride=(1, 1))\n",
      "      (4): BatchNorm2d(64, eps=1e-05, momentum=0.1, affine=True, track_running_stats=True)\n",
      "      (5): ReLU(inplace=True)\n",
      "      (6): MaxPool2d(kernel_size=2, stride=2, padding=0, dilation=1, ceil_mode=False)\n",
      "      (7): Dropout(p=0.2, inplace=False)\n",
      "    )\n",
      "    (fc_layer): Sequential(\n",
      "      (0): Linear(in_features=9216, out_features=128, bias=True)\n",
      "      (1): ReLU(inplace=True)\n",
      "      (2): Dropout(p=0.2, inplace=False)\n",
      "      (3): Linear(in_features=128, out_features=10, bias=True)\n",
      "      (4): ReLU()\n",
      "      (5): Softmax(dim=1)\n",
      "    )\n",
      "  )\n",
      "  (accuracy_calc): MulticlassAccuracy()\n",
      ")\n"
     ]
    }
   ],
   "source": [
    "## You can load the trained model at the specific checkpoint\n",
    "#model = PLModuleMNIST.load_from_checkpoint(model=model_core, lr_rate=0.001, checkpoint_path='./tb_logs/MNIST/version_0/checkpoints/epoch=2-step=1173.ckpt')\n",
    "\n",
    "print(model)"
   ]
  },
  {
   "attachments": {},
   "cell_type": "markdown",
   "metadata": {},
   "source": [
    "#### Step6-2. Classification perfromance for the test dataset ####\n",
    "`Loss` and `Accuracy` are useful metrics for understanding the performance"
   ]
  },
  {
   "cell_type": "code",
   "execution_count": 9,
   "metadata": {},
   "outputs": [
    {
     "name": "stderr",
     "output_type": "stream",
     "text": [
      "LOCAL_RANK: 0 - CUDA_VISIBLE_DEVICES: [0]\n",
      "/vols/solid/dev_ubdt/local/pyenv/versions/3.8.6/lib/python3.8/site-packages/pytorch_lightning/trainer/connectors/data_connector.py:224: PossibleUserWarning: The dataloader, test_dataloader 0, does not have many workers which may be a bottleneck. Consider increasing the value of the `num_workers` argument` (try 20 which is the number of cpus on this machine) in the `DataLoader` init to improve performance.\n",
      "  rank_zero_warn(\n"
     ]
    },
    {
     "data": {
      "application/vnd.jupyter.widget-view+json": {
       "model_id": "8f4054bff2234676a6e996eb6651344b",
       "version_major": 2,
       "version_minor": 0
      },
      "text/plain": [
       "Testing: 0it [00:00, ?it/s]"
      ]
     },
     "metadata": {},
     "output_type": "display_data"
    },
    {
     "name": "stdout",
     "output_type": "stream",
     "text": [
      "────────────────────────────────────────────────────────────────────────────────────────────────────────────────────────\n",
      "       Test metric             DataLoader 0\n",
      "────────────────────────────────────────────────────────────────────────────────────────────────────────────────────────\n",
      "        acc:test            0.9907041192054749\n",
      "        loss:test           -0.9903149604797363\n",
      "────────────────────────────────────────────────────────────────────────────────────────────────────────────────────────\n"
     ]
    },
    {
     "data": {
      "text/plain": [
       "[{'loss': {'test': tensor(-0.9903, device='cuda:0')},\n",
       "  'acc': {'test': tensor(0.9907, device='cuda:0')}}]"
      ]
     },
     "execution_count": 9,
     "metadata": {},
     "output_type": "execute_result"
    }
   ],
   "source": [
    "runner.test(model, data)"
   ]
  },
  {
   "attachments": {},
   "cell_type": "markdown",
   "metadata": {},
   "source": [
    "#### Step6-3. Visualize the feature maps (2D-CNNs) ####"
   ]
  },
  {
   "cell_type": "code",
   "execution_count": 10,
   "metadata": {},
   "outputs": [
    {
     "name": "stdout",
     "output_type": "stream",
     "text": [
      "len(conv_layers): 3\n"
     ]
    }
   ],
   "source": [
    "conv_layers = []\n",
    "maxpooling_layers = []\n",
    "children=list(model_core.children())\n",
    "for child in children[0]:\n",
    "    if (type(child) == nn.Conv2d) or (type(child) == nn.MaxPool2d):\n",
    "        conv_layers.append(child)\n",
    "    elif type(child) == nn.Sequential:\n",
    "        for gen in list(child):\n",
    "            for grandchildren in list(gen.children()):\n",
    "                if (type(grandchildren) == nn.Conv2d) or (type(grandchildren) == nn.MaxPool2d):\n",
    "                    conv_layers.append(grandchildren)\n",
    "print('len(conv_layers):', len(conv_layers))"
   ]
  },
  {
   "attachments": {},
   "cell_type": "markdown",
   "metadata": {},
   "source": [
    "##### Input image #####"
   ]
  },
  {
   "cell_type": "code",
   "execution_count": 11,
   "metadata": {},
   "outputs": [
    {
     "data": {
      "text/plain": [
       "<matplotlib.image.AxesImage at 0x7f46b551c460>"
      ]
     },
     "execution_count": 11,
     "metadata": {},
     "output_type": "execute_result"
    },
    {
     "data": {
      "image/png": "[encoded data removed]",
      "text/plain": [
       "<Figure size 640x480 with 1 Axes>"
      ]
     },
     "metadata": {},
     "output_type": "display_data"
    }
   ],
   "source": [
    "import matplotlib.pyplot as plt\n",
    "mnist = MNIST(os.getcwd(), train=False,  download=True, transform= transforms.Compose([transforms.ToTensor(), transforms.Normalize((0.1307), (0.3081))]))\n",
    "sample_image, label = mnist[0]\n",
    "\n",
    "plt.title('{}'.format(label))\n",
    "plt.imshow(sample_image.numpy()[0], cmap='gray')"
   ]
  },
  {
   "cell_type": "code",
   "execution_count": 12,
   "metadata": {},
   "outputs": [],
   "source": [
    "outputs_from_layer = []\n",
    "img_from_prev_layer = sample_image\n",
    "for layer in conv_layers:\n",
    "    img_from_prev_layer = layer(img_from_prev_layer)\n",
    "    outputs_from_layer.append(img_from_prev_layer)"
   ]
  },
  {
   "cell_type": "code",
   "execution_count": 13,
   "metadata": {},
   "outputs": [
    {
     "name": "stdout",
     "output_type": "stream",
     "text": [
      "(32, 26, 26)\n"
     ]
    },
    {
     "data": {
      "image/png": "[encoded data removed]",
      "text/plain": [
       "<Figure size 1600x800 with 32 Axes>"
      ]
     },
     "metadata": {},
     "output_type": "display_data"
    }
   ],
   "source": [
    "layer_number = 0\n",
    "feature_maps = outputs_from_layer[layer_number].detach().numpy()\n",
    "print(feature_maps.shape)\n",
    "figs, axes = plt.subplots(4, 8, figsize=[16,8])\n",
    "for i in range(feature_maps.shape[0]):\n",
    "    feature_map = feature_maps[i,:,:]\n",
    "    axes[int(i/8), int(i%8)].set_title('idx: {0}'.format(i))\n",
    "    axes[int(i/8), int(i%8)].imshow(feature_map)\n",
    "\n",
    "plt.tight_layout()\n",
    "figs.show()"
   ]
  },
  {
   "attachments": {},
   "cell_type": "markdown",
   "metadata": {},
   "source": [
    "#### Find the most activd filter in the first Conv2d layer ####"
   ]
  },
  {
   "cell_type": "code",
   "execution_count": 14,
   "metadata": {},
   "outputs": [
    {
     "name": "stdout",
     "output_type": "stream",
     "text": [
      "Max, idx:  216.66313 30\n",
      "Min, idx:  -164.83728 2\n"
     ]
    },
    {
     "data": {
      "image/png": "[encoded data removed]",
      "text/plain": [
       "<Figure size 800x1600 with 2 Axes>"
      ]
     },
     "metadata": {},
     "output_type": "display_data"
    }
   ],
   "source": [
    "layer_number = 0\n",
    "fmaps = outputs_from_layer[layer_number].detach().numpy()\n",
    "\n",
    "output_from_filters = fmaps.sum(axis=2).sum(axis=1)\n",
    "idx_max = output_from_filters.argmax()\n",
    "max = output_from_filters.max()\n",
    "idx_min = output_from_filters.argmin()\n",
    "min = output_from_filters.min()\n",
    "\n",
    "print('Max, idx: ', max, idx_max)\n",
    "print('Min, idx: ', min, idx_min)\n",
    "\n",
    "img_max = fmaps[idx_max,:,:]\n",
    "img_min = fmaps[idx_min,:,:]\n",
    "\n",
    "figs, axes = plt.subplots(1,2, figsize=[8,16])\n",
    "axes[0].set_title('Max, idx {0}'.format(idx_max))\n",
    "axes[0].imshow(img_max)\n",
    "axes[1].set_title('Min, idx {0}'.format(idx_min))\n",
    "axes[1].imshow(img_min)\n",
    "figs.show()"
   ]
  }
 ],
 "metadata": {
  "kernelspec": {
   "display_name": "python3.8",
   "language": "python",
   "name": "python3.8"
  },
  "language_info": {
   "codemirror_mode": {
    "name": "ipython",
    "version": 3
   },
   "file_extension": ".py",
   "mimetype": "text/x-python",
   "name": "python",
   "nbconvert_exporter": "python",
   "pygments_lexer": "ipython3",
   "version": "3.8.6"
  },
  "orig_nbformat": 4,
  "vscode": {
   "interpreter": {
    "hash": "916dbcbb3f70747c44a77c7bcd40155683ae19c65e1c03b4aa3499c5328201f1"
   }
  }
 },
 "nbformat": 4,
 "nbformat_minor": 2
}
